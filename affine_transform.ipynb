{
 "cells": [
  {
   "cell_type": "markdown",
   "id": "92fa3395",
   "metadata": {},
   "source": []
  },
  {
   "cell_type": "code",
   "execution_count": 11,
   "id": "c33b75eb",
   "metadata": {},
   "outputs": [],
   "source": [
    "import numpy as np\n",
    "from src.kinematics_library.guassian import Gaussian\n",
    "\n",
    "\n",
    "mu_x = np.array([[1.0], [2.0], [0.0]])          # Initial guess\n",
    "P = np.diag([1.0, 1.0, 0.2])                   # Uncertainty\n",
    "prior = Gaussian.from_moment(mu_x, P)\n"
   ]
  },
  {
   "cell_type": "code",
   "execution_count": null,
   "id": "4d000b65",
   "metadata": {},
   "outputs": [
    {
     "data": {
      "text/plain": [
       "GaussianReturn(magnitude=array([[2.44948974]]), gaussian_magnitude=None, grad_magnitude=array([[-0.40824829,  0.81649658, -0.40824829]]), hess_magnitude=None)"
      ]
     },
     "execution_count": 12,
     "metadata": {},
     "output_type": "execute_result"
    }
   ],
   "source": [
    "from src.kinematics_library.gaussian_measurement_function import MeasurementFunctionProtocol\n",
    "from src.kinematics_library.gaussian_return import GaussianReturn\n",
    "import numpy as np\n",
    "\n",
    "class DummyTransform(MeasurementFunctionProtocol):\n",
    "    def __init__(self):\n",
    "        super().__init__()\n",
    "        self.beacon_1 = np.array([[2.0], [0.0], [1.0]])  # (3,1)\n",
    "\n",
    "    def __call__(self, x: np.ndarray, return_grad: bool = False, return_hess: bool = False) -> GaussianReturn:\n",
    "        d = self.beacon_1 - x  # (3,1)\n",
    "        norm_d = np.linalg.norm(d)  # scalar\n",
    "\n",
    "        y = np.array([[norm_d]])  # (1,1) output measurement\n",
    "\n",
    "        grad = None\n",
    "        hess = None\n",
    "\n",
    "        if return_grad:\n",
    "            grad = (-d / norm_d).T  # (1,3) Jacobian (row vector)\n",
    "        \n",
    "        if return_hess:\n",
    "            # TODO: second derivative (Hessian) if you want (optional for now)\n",
    "            pass\n",
    "\n",
    "        return GaussianReturn(\n",
    "            magnitude=y,\n",
    "            grad_magnitude=grad,\n",
    "            hess_magnitude=hess\n",
    "        )\n",
    "\n",
    "rv = DummyTransform()(x=mu_x,return_grad=True)\n",
    "rv"
   ]
  },
  {
   "cell_type": "code",
   "execution_count": null,
   "id": "f95c18a7",
   "metadata": {},
   "outputs": [],
   "source": [
    "\n",
    "p = DummyTransform()\n",
    "h = p.__call__\n",
    "noise = None\n",
    "\n",
    "mu = prior.mu\n",
    "S = prior.sqrt_cov\n",
    "\n",
    "result: GaussianReturn = h(x=mu, return_grad=True)\n",
    "\n",
    "if not result.has_grad:\n",
    "    raise ValueError(\"Affine transform requires gradient information (Jacobian) when no Gaussian is provided\")\n",
    "\n",
    "y_part = result.magnitude\n",
    "J = result.grad_magnitude\n",
    "\n",
    "if y_part.ndim == 1:\n",
    "    y_part = y_part[:, None]\n",
    "\n",
    "# Propagate uncertainty\n",
    "SJ_T = J @ S.T\n",
    "parts = [SJ_T]\n",
    "\n",
    "if noise is not None:\n",
    "    parts.append(noise.sqrt_cov)\n",
    "\n",
    "# Stack all uncertainty contributions vertically\n",
    "max_cols = max(p.shape[1] for p in parts)\n",
    "padded_parts = [\n",
    "    np.pad(p, ((0, 0), (0, max_cols - p.shape[1]))) if p.shape[1] < max_cols else p\n",
    "    for p in parts\n",
    "]\n",
    "stacked = np.vstack(padded_parts)\n",
    "\n",
    "# QR decomposition to obtain square-root of covariance\n",
    "_, R = np.linalg.qr(stacked, mode=\"reduced\")\n",
    "SR = R.T\n",
    "\n",
    "# Ensure full (n, n) shape\n",
    "expected_dim = J.shape[0]\n",
    "curr_rows, curr_cols = SR.shape\n",
    "if curr_rows < expected_dim:\n",
    "    pad_rows = expected_dim - curr_rows\n",
    "    SR = np.pad(SR, ((0, pad_rows), (0, 0)))\n",
    "if curr_cols < expected_dim:\n",
    "    pad_cols = expected_dim - curr_cols\n",
    "    SR = np.pad(SR, ((0, 0), (0, pad_cols)))\n",
    "\n",
    "rF = Gaussian(y_part, SR)"
   ]
  },
  {
   "cell_type": "code",
   "execution_count": 14,
   "id": "3f9c95e8",
   "metadata": {},
   "outputs": [
    {
     "data": {
      "text/plain": [
       "array([[2.44948974]])"
      ]
     },
     "execution_count": 14,
     "metadata": {},
     "output_type": "execute_result"
    }
   ],
   "source": [
    "y_part"
   ]
  },
  {
   "cell_type": "code",
   "execution_count": 15,
   "id": "6b4b03f7",
   "metadata": {},
   "outputs": [
    {
     "data": {
      "text/plain": [
       "array([[2.44948974]])"
      ]
     },
     "execution_count": 15,
     "metadata": {},
     "output_type": "execute_result"
    }
   ],
   "source": [
    "rF.mu"
   ]
  },
  {
   "cell_type": "markdown",
   "id": "2db2ee33",
   "metadata": {},
   "source": [
    "We have a measurement that is as expected. Now we're going to get a gaussian that's [h(x); x] to prep for the conditional"
   ]
  },
  {
   "cell_type": "code",
   "execution_count": null,
   "id": "c856fc05",
   "metadata": {},
   "outputs": [],
   "source": [
    "return_hessian = False\n",
    "return_gradient = False\n",
    "system = None\n",
    "\n",
    "def predict_density(x, system, return_gradient=False, return_hessian=False) -> GaussianReturn:\n",
    "    return DummyTransform()(x=x,return_grad=return_gradient)\n",
    "\n",
    "x = prior.mu\n",
    "\n",
    "if return_hessian:\n",
    "    py, dhdx, d2hdx2 = predict_density(x, system, return_gradient=True, return_hessian=True)\n",
    "\n",
    "elif return_gradient:\n",
    "    py, dhdx = predict_density(x, system, return_gradient=True)\n",
    "    d2hdx2 = np.zeros((py.mu.shape[0], x.shape[0], x.shape[0]))\n",
    "else:\n",
    "    rv = predict_density(x, system)\n",
    "    py = rv.gaussian_magnitude\n",
    "    dhdx = np.zeros((py.mu.shape[0], x.shape[0]))\n",
    "    d2hdx2 = np.zeros((py.mu.shape[0], x.shape[0], x.shape[0]))\n",
    "\n",
    "ny = py.mu.shape[0]\n",
    "nx = x.shape[0]\n",
    "\n",
    "# Construct full S_aug: (ny+nx, ny+nx)\n",
    "S_aug = np.zeros((ny + nx, ny + nx))\n",
    "S_aug[:ny, :ny] = py.sqrt_cov  # top-left block is R\n",
    "S_aug[ny:, ny:] = system.density.sqrt_cov  # bottom-right = state uncertainty\n",
    "\n",
    "\n",
    "mu_aug = np.vstack([py.mu, x])\n",
    "J_aug = np.vstack([dhdx, np.eye(nx)])\n",
    "\n",
    "py_aug = Gaussian(mu_aug, S_aug)\n",
    "\n",
    "return py_aug, J_aug"
   ]
  },
  {
   "cell_type": "code",
   "execution_count": null,
   "id": "8b6b7787",
   "metadata": {},
   "outputs": [],
   "source": [
    "# P_y = H P_x H^T + R\n",
    "# = [1 3] [1 0; 0 4] [1;3] + 0.5\n",
    "# = (1*1*1 + 1*0*3 + 3*0*1 + 3*4*3) + 0.5\n",
    "# = (1 + 0 + 0 + 36) + 0.5 = 37 + 0.5 = 37.5\n",
    "    "
   ]
  }
 ],
 "metadata": {
  "kernelspec": {
   "display_name": "env",
   "language": "python",
   "name": "python3"
  },
  "language_info": {
   "codemirror_mode": {
    "name": "ipython",
    "version": 3
   },
   "file_extension": ".py",
   "mimetype": "text/x-python",
   "name": "python",
   "nbconvert_exporter": "python",
   "pygments_lexer": "ipython3",
   "version": "3.13.3"
  }
 },
 "nbformat": 4,
 "nbformat_minor": 5
}
