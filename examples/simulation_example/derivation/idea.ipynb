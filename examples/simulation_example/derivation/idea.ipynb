{
 "cells": [
  {
   "cell_type": "code",
   "execution_count": 3,
   "id": "7b21b692",
   "metadata": {},
   "outputs": [
    {
     "name": "stdout",
     "output_type": "stream",
     "text": [
      "Hello world\n"
     ]
    }
   ],
   "source": [
    "import numpy as np\n",
    "from kinematics_library import homogeneous as htf\n",
    "from kinematics_library.homogeneous_utils import get_basis_vectors, get_r_and_R_from_A \n",
    "print(\"Hello world\")\n"
   ]
  },
  {
   "cell_type": "code",
   "execution_count": 4,
   "id": "7cbd583e",
   "metadata": {},
   "outputs": [],
   "source": [
    "# Camera 1\n",
    "cam_1_east = 100  # [m]\n",
    "cam_1_north = 200  # [m]\n",
    "cam_1_compass_bearing = np.deg2rad(45) # [deg]\n",
    "\n",
    "A1n = htf.transx(cam_1_north) @ htf.transy(cam_1_east) @ htf.rotz(cam_1_compass_bearing) # NED\n",
    "rC1Nn, Rc1n = get_r_and_R_from_A(A1n)\n",
    "c1_1, c1_2, c1_3 = get_basis_vectors(A1n)\n"
   ]
  },
  {
   "cell_type": "code",
   "execution_count": 5,
   "id": "3c09647d",
   "metadata": {},
   "outputs": [],
   "source": [
    "# Camera 2\n",
    "cam_2_east = 400  # [m]\n",
    "cam_2_north = 500  # [m]\n",
    "cam_2_compass_bearing = np.deg2rad(0) # [deg]\n",
    "\n",
    "A2n = htf.transx(cam_2_north) @ htf.transy(cam_2_east) @ htf.rotz(cam_2_compass_bearing) # NED\n",
    "rC2Nn, Rc2n = get_r_and_R_from_A(A2n)\n",
    "c2_1, c2_2, c2_3 = get_basis_vectors(A2n)"
   ]
  },
  {
   "cell_type": "code",
   "execution_count": null,
   "id": "cd00649f",
   "metadata": {},
   "outputs": [],
   "source": []
  }
 ],
 "metadata": {
  "kernelspec": {
   "display_name": "env",
   "language": "python",
   "name": "python3"
  },
  "language_info": {
   "codemirror_mode": {
    "name": "ipython",
    "version": 3
   },
   "file_extension": ".py",
   "mimetype": "text/x-python",
   "name": "python",
   "nbconvert_exporter": "python",
   "pygments_lexer": "ipython3",
   "version": "3.13.3"
  }
 },
 "nbformat": 4,
 "nbformat_minor": 5
}
